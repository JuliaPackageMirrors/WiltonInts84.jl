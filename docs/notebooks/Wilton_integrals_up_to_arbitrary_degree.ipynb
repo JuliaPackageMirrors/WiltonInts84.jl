{
 "cells": [
  {
   "cell_type": "raw",
   "metadata": {},
   "source": [
    "\\newcommand{\\vt}[1]{\\boldsymbol{#1}}\n",
    "\\newcommand{\\uv}[1]{\\hat{\\boldsymbol{#1}}}\n",
    "\\newcommand{\\tv}[1]{\\tilde{\\boldsymbol{#1}}}\n",
    "\\newcommand{\\dvg}{\\operatorname{div}}"
   ]
  },
  {
   "cell_type": "markdown",
   "metadata": {},
   "source": [
    "$$\n",
    "\\renewcommand{\\vt}[1]{\\boldsymbol{#1}}\n",
    "\\renewcommand{\\uv}[1]{\\hat{\\boldsymbol{#1}}}\n",
    "\\renewcommand{\\tv}[1]{\\tilde{\\boldsymbol{#1}}}\n",
    "\\renewcommand{\\dvg}{\\operatorname{div}}\n",
    "$$"
   ]
  },
  {
   "cell_type": "markdown",
   "metadata": {},
   "source": [
    "# Integration of powers of $R$ on triangles following Wilton [1]\n",
    "\n",
    "We are interested in the computation of\n",
    "\n",
    "\\begin{equation}\n",
    "\\int_T R^n dy,\n",
    "\\end{equation}\n",
    "\n",
    "where $T$ is a triangle, $R=|x-y|$, and $n$ an integer larger or equal then $-1$.\n",
    "\n",
    "[[1]](http://ieeexplore.ieee.org/xpls/abs_all.jsp?arnumber=1143304&tag=1) D. Wilton, S. Rao, A. Glisson, D. Schaubert, O. Al-Bundak, and C. Butler, “Potential integrals for uniform and linear source distributions on polygonal and polyhedral domains,” IEEE Transactions on Antennas and Propagation, vol. 32, no. 3, pp. 276–281, Mar. 1984.\n"
   ]
  },
  {
   "cell_type": "markdown",
   "metadata": {},
   "source": [
    "Following Wilton, we start with writing the integrand as the surface divergence of a radially symmetric vector function. Assume\n",
    "\n",
    "\\begin{equation}\n",
    "R^n = \\dvg \\left( F(P;h) \\vt{P} \\right)\n",
    "\\end{equation}\n",
    "\n",
    "Here, $\\vt{P}$ is the projection onto the plane supporting $T$ of $\\vt{x} - \\vt{y}$, and $h$ is the signed normal coordinate of $\\vt{x}-\\vt{y}$, i.e. $\\vt{x}-\\vt{y} = \\vt{P} + h\\uv{n}$ (with $\\vt{n}$ a normal on $T$ that will induce a counter-clockwise ordering of $\\partial T$)."
   ]
  },
  {
   "cell_type": "markdown",
   "metadata": {},
   "source": [
    "The Ansatz above is equivalent to:\n",
    "\n",
    "\\begin{equation}\n",
    "\\left(P^2+h^2\\right)^{n/2} = F'(P;h) P + F(P;h) 2\n",
    "\\end{equation}\n",
    "\n",
    "Multiplying with the integrating factor $P$ leads to\n",
    "\n",
    "\\begin{equation}\n",
    "P \\left(P^2+h^2\\right)^{n/2} = \\left( P^2 F(P;h) \\right)'\n",
    "\\end{equation}"
   ]
  },
  {
   "cell_type": "markdown",
   "metadata": {},
   "source": [
    "or,\n",
    "\n",
    "\\begin{align}\n",
    "F(P;h) =& \\frac{1}{P^2} \\int Q \\left(Q^2+h^2\\right)^{n/2} dQ \\\\\n",
    "=& \\frac{1}{P^2} \\frac{1}{(n+2)}  \\left( P^2 + h^2 \\right)^{\\frac{n+2}{2}}\n",
    "\\end{align}\n",
    "\n",
    "and finally\n",
    "\n",
    "\\begin{equation}\n",
    "R^n = \\dvg \\left( \\frac{1}{P^2} \\frac{1}{(n+2)} \\left( P^2 + h^2 \\right)^{\\frac{n+2}{2}} \\vt{P} \\right)\n",
    "\\end{equation}"
   ]
  },
  {
   "cell_type": "markdown",
   "metadata": {},
   "source": [
    "If $n= 2m$ (i.e. if $n$ is even), we will use the alternative representation:\n",
    "\n",
    "\\begin{equation}\n",
    "R^n = \\dvg \\left( \\frac{1}{(n+2) P^2} \\left( \\left( P^2 + h^2 \\right)^{m+1} - h^{2m+2} \\right) \\vt{P} \\right)\n",
    "\\end{equation}\n",
    "\n",
    "Note that the term we added has vanishing divergence and thus will not affect the value of the integral. The reason for this alternative potential is that it is regular at $P=0$ and will lead to a more economic representation of the integrals we are after. In particular, for $m=0$ we get\n",
    "\n",
    "\\begin{equation}\n",
    "1 = \\dvg \\left( \\frac{1}{2} \\vt{P} \\right)\n",
    "\\end{equation}"
   ]
  },
  {
   "cell_type": "markdown",
   "metadata": {},
   "source": [
    "## Odd powers of $R$\n",
    "\n",
    "Using this the integral we want to compute reduces to:\n",
    "\n",
    "\\begin{equation}\n",
    "\\frac{1}{n+2} \\int_{\\partial(T \\setminus B_{\\epsilon})} \\frac{ \\left( P^2 + h^2 \\right)^{\\frac{n+2}{2}}}{P^2} \\uv{m} \\cdot \\vt{P} dy - \\frac{1}{n+2} \\lim_{\\epsilon \\rightarrow 0} \\int_{C_{\\epsilon}} \\frac{ \\left( P^2 + h^2 \\right)^{\\frac{n+2}{2}}}{P^2} \\uv{m} \\cdot \\vt{P} dy\n",
    "\\end{equation}\n",
    "\n",
    "The integration path of the contour in the second term is $\\partial (B_{\\epsilon}(\\xi) \\cap T)$. For $\\xi \\notin T$ the contour is void, for $\\xi \\in T$ it is a circle, for $\\xi$ in the interior of one of the sides comprising $\\partial T$ it is half a circle, and for $\\xi$ in the vertices of $T$ it is a circle spanning the angle formed at those vertices w.r.t the interior of $T$. If $\\xi \\in \\partial T$, the integral in the first term is meant in the Cauchy principle value sense.\n",
    "\n",
    "The second term is a contribution of a small circlular area of radius $\\epsilon$ centered on $\\xi$. This region needs to be excluded prior to applying the surfacic divergence theorem because the potential is not smooth there. It can easily be evaluated to\n",
    "\n",
    "\\begin{align}\n",
    "S_n =& - \\frac{1}{n+2} \\lim_{\\epsilon \\rightarrow 0} \\int_{C_{\\epsilon}} \\frac{ \\left( P^2 + h^2 \\right)^{\\frac{n+2}{2}}}{P^2} \\uv{m} \\cdot \\vt{P} dy \\\\\n",
    "=& -\\frac{\\alpha}{n+2} |h|^{n+2}\n",
    "\\end{align}"
   ]
  },
  {
   "cell_type": "markdown",
   "metadata": {},
   "source": [
    "The boundary of the triangle is the disjoint union of the three segments: $\\partial T = \\cup_{i=1}^3 \\partial_i T$. On $\\partial_i T$, $\\uv{m} \\cdot \\vt{P}$ takes on the constant value denoted $p_i$ (the sign of $p_i$ depends on the position of $\\vt{\\xi}$ with respect to the oriented line $\\partial_i T$). The segment $\\partial_i T$ is parametrised by\n",
    "\n",
    "\\begin{equation}\n",
    "\\partial_i T(s) = \\vt{y}_{0,i} + s \\uv{t}_i, \\quad s \\in [a_i,b_i]\n",
    "\\end{equation}\n",
    "\n",
    "where $\\vt{y}_{0,i}$ is the orthogonal projection of $\\vt{x}$ on $\\partial T_i$, and $\\uv{t}_i$ is the unit vector along $\\partial_i T$."
   ]
  },
  {
   "cell_type": "markdown",
   "metadata": {},
   "source": [
    "The integral reduces to:\n",
    "\n",
    "\\begin{equation}\n",
    "\\frac{1}{n+2} \\sum_{i=1}^3 p_i \\int_{a_i}^{b_i} \\frac{\\left(s^2 + p_i^2 + h^2\\right)^{\\frac{n+2}{2}}}{s^2 + p_i^2} ds\n",
    "\\end{equation}"
   ]
  },
  {
   "cell_type": "markdown",
   "metadata": {},
   "source": [
    "Let us now focus on a single term:\n",
    "\n",
    "\\begin{equation}\n",
    "I_n = \\frac{p}{n+2} \\int_{a}^{b} \\frac{(s^2+r^2)^{\\frac{n+2}{2}}}{s^2+p^2} ds\n",
    "\\end{equation}\n",
    "\n",
    "where indices $i$ where omitted and the shorthand $r^2 = p^2 + h^2$ was introduced."
   ]
  },
  {
   "cell_type": "markdown",
   "metadata": {},
   "source": [
    "For $n = -3$ we get\n",
    "\n",
    "\\begin{align}\n",
    "I_{-3} =& -p \\int_{a}^{b} \\frac{(s^2+p^2+h^2)^{-\\frac{1}{2}}}{s^2+p^2} ds \\\\\n",
    "=& -\\frac{1}{h} \\tan^{-1} \\frac{hs}{p \\sqrt{s^2+p^2+h^2}}\n",
    "\\end{align}"
   ]
  },
  {
   "cell_type": "markdown",
   "metadata": {},
   "source": [
    "*Note*: Here we used the dare I say non-trivial primitve:\n",
    "\n",
    "\\begin{equation}\n",
    "\\int \\frac{ab}{\\left( s^2 + a^2 \\right) \\sqrt{s^2 + a^2 + b^2}} = \\tan^{-1} \\frac{bs}{a \\sqrt{s^2 + a^2 + b^2}}\n",
    "\\end{equation}\n",
    "\n",
    "See e.g. [Wolfram Alpha](https://www.wolframalpha.com/input/?i=diff%28atan%28b*s%2F%28a*sqrt%28s%5E2%2Ba%5E2%2Bb%5E2%29%29%29,s%29).\n",
    "\n",
    "**Note**: In the case where $p = 0$, $I_{-3}$ disappears."
   ]
  },
  {
   "cell_type": "markdown",
   "metadata": {},
   "source": [
    "In the case $n > 0$ the integrals can be computed by recursion.\n",
    "\n",
    "\\begin{align}\n",
    "I_n =& \\frac{p}{n+2} \\int \\frac{(s^2+p^2+h^2)^{\\frac{n+2}{2}}}{s^2+p^2} ds \\\\\n",
    "=& \\frac{p}{n+2} \\int \\frac{(s^2+p^2+h^2)^{n/2}\\left(s^2+p^2+h^2\\right)}{s^2+p^2} ds \\\\\n",
    "=& \\frac{p}{n+2} \\left( \\int \\left( s^2+p^2+h^2 \\right)^{n/2} ds + h^2 \\frac{n}{p} I_{n-2}\\right) \\\\\n",
    "=& \\frac{p}{n+2} \\left( p^2+h^2 \\right)^{\\frac{n+1}{2}} \\int \\left( t^2 + 1 \\right)^{n/2} dt + h^2 \\frac{n}{n+2} I_{n-2}, \\quad t = \\frac{s}{\\sqrt{p^2+h^2}} \\\\\n",
    "=& \\frac{p}{n+2} \\left( p^2+h^2 \\right)^{\\frac{n+1}{2}} J_n\\left( \\frac{s}{\\sqrt{p^2+h^2}} \\right) + h^2 \\frac{n}{n+2} I_{n-2}\n",
    "\\end{align}"
   ]
  },
  {
   "cell_type": "markdown",
   "metadata": {},
   "source": [
    "The first term can in turn be computed by recursion ($J_n$ is **not** the Bessel function!):\n",
    "\n",
    "\\begin{align}\n",
    "J_n =& \\int \\left( t^2 + 1 \\right)^{n/2} dt \\\\\n",
    "=& \\int \\cosh^{n+1} (\\alpha) d\\alpha \\quad \\mbox{where } t = \\sinh \\alpha \\\\\n",
    "=& \\cosh^n \\alpha \\sinh \\alpha - n \\int \\cosh^{n-1} \\alpha \\sinh^2 \\alpha \\\\\n",
    "=& \\left(1 + t^2\\right)^{\\frac{n}{2}} t - n \\int \\cosh^{n-1} \\alpha (\\cosh^2 \\alpha - 1) \\\\\n",
    "=& \\left(1 + t^2\\right)^{\\frac{n}{2}} t - n \\left( J_n - J_{n-2} \\right)\n",
    "\\end{align}"
   ]
  },
  {
   "cell_type": "markdown",
   "metadata": {},
   "source": [
    "From which\n",
    "\n",
    "\\begin{equation}\n",
    "J_n = \\frac{1}{n+1} \\left( \\left(1 + t^2\\right)^{\\frac{n}{2}} t + n J_{n-2} \\right)\n",
    "\\end{equation}\n",
    "\n",
    "The recursion is bootstrapped from\n",
    "\n",
    "\\begin{equation}\n",
    "J_{-1} = \\log \\left( t + \\sqrt{1 + t^2} \\right)\n",
    "\\end{equation}"
   ]
  },
  {
   "cell_type": "markdown",
   "metadata": {},
   "source": [
    "For $n = -1$ this integral becomes\n",
    "\n",
    "\\begin{align}\n",
    "I_{-1} =& p \\int_{a}^{b} \\frac{(s^2+p^2+h^2)^{1/2}}{s^2+p^2} ds \\\\\n",
    "=& p \\int_{a}^{b} \\left( \\frac{1}{\\sqrt{s^2+p^2+h^2}} + \\frac{h^2}{\\sqrt{s^2+p^2+h^2}(s^2+p^2)} \\right) ds \\\\\n",
    "=& p \\left. \\log (s + \\sqrt{s^2+p^2+h^2}) \\right|_a^b + h \\left. \\tan^{-1} \\frac{hs}{p \\sqrt{s^2+p^2+h^2}} \\right|_a^b\n",
    "\\end{align}\n"
   ]
  },
  {
   "cell_type": "markdown",
   "metadata": {},
   "source": [
    "### Corner cases and numerical instability\n",
    "\n",
    "For small $p$, the argument of $\\tan^{-1}$ becomes very large. Moreover, the contributions stemming from the integral over $\\partial T$ and those stemming from the region around $\\xi$ cancel in the final computation of $\\sum_i I_{n,i} + S_n$.\n",
    "\n",
    "In [1] it is suggested to combine both contributions using the addition property of the $\\tan^{-1}$. In this section this will be generalised for arbitrary powers of $R$. Not only will this result in the stable computation of the integrals, it will also eliminate branches from the code.\n",
    "\n",
    "Using the computations from previous section we have\n",
    "\n",
    "\\begin{align}\n",
    "\\int \\frac{h}{R^3} =& - \\sum_{i=1}^3 \\left. \\tan^{-1} \\frac{hs}{p_i \\sqrt{s^2+p_i^2+h^2}} \\right|_{a_i}^{b_i} + \\alpha \\sigma(h) \\\\\n",
    "=& - \\sigma(h) \\left( \\sum_{i=1}^3 \\left. \\tan^{-1} \\frac{|h|s}{p_i \\sqrt{s^2+p_i^2+h^2}} \\right|_{a_i}^{b_i} + \\alpha \\right) \\\\\n",
    "\\end{align}\n",
    "\n",
    "Now the interior angle spanned by $\\partial T$ as seen by $\\xi$ can be written as:\n",
    "\n",
    "\\begin{equation}\n",
    "a = \\sum_{i=1}^3 \\sigma(p_i) \\left. -\\tan^{-1} \\frac{s}{\\sqrt{p_i^2+h^2}} \\right|_{a_i}^{b_i}\n",
    "\\end{equation}\n",
    "\n",
    "The [addition theorem](https://en.wikipedia.org/wiki/Inverse_trigonometric_functions#Arctangent_addition_formula) for $\\tan^{-1}$ applied to this situtation allows to combine corresponding terms from $\\sum_i I_{n,i}$ and $S_n$:\n",
    "\n",
    "\\begin{equation}\n",
    "-\\tan^{-1} \\frac{s}{p_i} + \\tan^{-1} \\frac{|h|s}{p\\sqrt{s^2+p_i^2+h^2}} = -\\tan^{-1} \\frac{ps}{(p_i^2 + h^2)^2 + |h| \\sqrt{s^2+p_i^2+h^2}}\n",
    "\\end{equation}\n",
    "\n",
    "Finally, noting that\n",
    "\n",
    "\\begin{equation}\n",
    "S_n = h^2 \\frac{n}{n+2} S_{n-2}\n",
    "\\end{equation}\n",
    "\n",
    "and comparing this with the second term in the recursion for $I_n$ ($n$ odd):\n",
    "\n",
    "\\begin{equation}\n",
    "I_{n,i} = ... + h^2 \\frac{n}{n+2} I_{n+2,i}\n",
    "\\end{equation}\n",
    "\n",
    "tells us that once the merging of the two contributions is done for $n=-3$, the recursion will generate the correct answers for all other powers of $R$."
   ]
  },
  {
   "cell_type": "markdown",
   "metadata": {},
   "source": [
    "## Even powers of $R$\n",
    "\n",
    "Because the potential is a polynomial in $P$ that tends to zero as $P \\rightarrow 0$, there is no singular contribution stemming from excising a small region around $\\xi$. This makes the computation significantly simpler.\n",
    "\n",
    "For even powers $n = 2m$ the integral we need to compute is\n",
    "\n",
    "\\begin{equation}\n",
    "I_{2m} = \\frac{p}{2m+2} \\int \\frac{ \\left( s^2 + p^2 + h^2 \\right)^{m+1} - h^{2m+2}}{s^2+p^2} ds\n",
    "\\end{equation}"
   ]
  },
  {
   "cell_type": "markdown",
   "metadata": {},
   "source": [
    "which can be done by straightforward application of the binomial expansion\n",
    "\n",
    "\\begin{align}\n",
    "I_{2m} =& \\frac{p}{2m+2} \\int \\sum_{k=1}^{m+1} \\binom{m+1}{k} (s^2+p^2)^{k-1} h^{2(m+1-k)} ds \\\\\n",
    "=& \\frac{p}{2m+2} \\sum_{k=1}^{m+1} \\binom{m+1}{k} h^{2(m+1-k)} \\int \\sum_{l=0}^{k-1} \\binom{k-1}{l} s^{2l} p^{2(k-1-l)} ds \\\\\n",
    "=& \\frac{p}{2m+2} \\sum_{k=1}^{m+1} \\binom{m+1}{k} h^{2(m+1-k)} \\sum_{l=0}^{k-1} \\frac{1}{2l+1} \\binom{k-1}{l} p^{2(k-1-l)} s^{2l+1} \\\\\n",
    "=& \\frac{p}{2m+2} \\sum_{k=1}^{m+1} \\binom{m+1}{k} h^{2(m+1-k)} C_k(p,s)\n",
    "\\end{align}\n",
    "\n",
    "Note that the inner summation does not depend on $m$ and can be reused among the computation of the different $I_{2m}$."
   ]
  }
 ],
 "metadata": {
  "kernelspec": {
   "display_name": "Julia 0.4.6",
   "language": "julia",
   "name": "julia-0.4"
  },
  "language_info": {
   "file_extension": ".jl",
   "mimetype": "application/julia",
   "name": "julia",
   "version": "0.4.6"
  }
 },
 "nbformat": 4,
 "nbformat_minor": 0
}
